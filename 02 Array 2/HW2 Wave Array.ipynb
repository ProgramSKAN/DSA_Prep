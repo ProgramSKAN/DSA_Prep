{
 "cells": [
  {
   "cell_type": "markdown",
   "metadata": {},
   "source": [
    "Wave Array\n",
    "```Given an array of integers, sort the array into a wave like array and return it, \n",
    "In other words, arrange the elements into a sequence such that a1 >= a2 <= a3 >= a4 <= a5..... \n",
    "Example\n",
    "Given [1, 2, 3, 4]\n",
    "\n",
    "One possible answer : [2, 1, 4, 3]\n",
    "Another possible answer : [4, 1, 3, 2]\n",
    " NOTE : If there are multiple answers possible, return the one thats lexicographically smallest.\n",
    "So, in example case, you will return [2, 1, 4, 3]"
   ]
  },
  {
   "cell_type": "code",
   "execution_count": null,
   "metadata": {
    "dotnet_interactive": {
     "language": "csharp"
    },
    "vscode": {
     "languageId": "dotnet-interactive.csharp"
    }
   },
   "outputs": [
    {
     "name": "stdout",
     "output_type": "stream",
     "text": [
      "2,1,4,3\r\n"
     ]
    }
   ],
   "source": [
    "int[] WaveArray(int[] arr){\n",
    "    Array.Sort(arr);\n",
    "    int n=arr.Length;\n",
    "\n",
    "    for(int i=0;i<n;i+=2){\n",
    "        int temp=arr[i];\n",
    "        arr[i]=arr[i+1];\n",
    "        arr[i+1]=temp;\n",
    "    }\n",
    "\n",
    "    return arr;\n",
    "}\n",
    "\n",
    "\n",
    "var arr=new int[]{1,2,3,4};\n",
    "\n",
    "Console.WriteLine(String.Join(\",\",WaveArray(arr)));"
   ]
  },
  {
   "cell_type": "code",
   "execution_count": null,
   "metadata": {
    "dotnet_interactive": {
     "language": "csharp"
    },
    "vscode": {
     "languageId": "dotnet-interactive.csharp"
    }
   },
   "outputs": [],
   "source": []
  }
 ],
 "metadata": {
  "kernelspec": {
   "display_name": ".NET (C#)",
   "language": "C#",
   "name": ".net-csharp"
  },
  "language_info": {
   "file_extension": ".cs",
   "mimetype": "text/x-csharp",
   "name": "C#",
   "pygments_lexer": "csharp",
   "version": "9.0"
  },
  "orig_nbformat": 4
 },
 "nbformat": 4,
 "nbformat_minor": 2
}
