{
 "cells": [
  {
   "cell_type": "markdown",
   "metadata": {},
   "source": [
    "Rearrange the array\n",
    "```\n",
    "Given an array of integers A of size N that is a permutation of [0, 1, 2, ..., (N-1)]. Rearrange the array such that A[i] = j is changed to A[j] = i for all i and j form 0 to N-1. Note: Try solving this with O(1) extra space. \n",
    "Input Format\n",
    "The only argument given is the integer array A.\n",
    "Output Format\n",
    "Return the rearranged array A.\n",
    "Constraints\n",
    "1 <= N <= 100000\n",
    "0 <= A[i] < N\n",
    "For Example\n",
    "Input 1:\n",
    "    A = [1, 2, 3, 4, 0]\n",
    "Output 1:\n",
    "    [4, 0, 1, 2, 3]\n",
    "\n",
    "Input 2:\n",
    "    A = [2, 0, 1, 3]\n",
    "Output 2:\n",
    "    [1, 2, 0, 3]"
   ]
  },
  {
   "cell_type": "code",
   "execution_count": null,
   "metadata": {
    "dotnet_interactive": {
     "language": "csharp"
    },
    "vscode": {
     "languageId": "dotnet-interactive.csharp"
    }
   },
   "outputs": [
    {
     "name": "stdout",
     "output_type": "stream",
     "text": [
      "4 ,0 ,1 ,2 ,3 ,"
     ]
    }
   ],
   "source": [
    "int[] Rearrange(int[] a){\n",
    "    int n=a.Length;\n",
    "    var result=new int[n];\n",
    "\n",
    "    for(int i=0; i<n; i++){\n",
    "        result[a[i]]=i;\n",
    "    }\n",
    "\n",
    "    return result;\n",
    "}\n",
    "\n",
    "var input=new int[]{1, 2, 3, 4, 0};\n",
    "foreach(var i in Rearrange(input)){\n",
    "Console.Write(i+\" ,\");\n",
    "}\n"
   ]
  },
  {
   "cell_type": "code",
   "execution_count": null,
   "metadata": {
    "dotnet_interactive": {
     "language": "csharp"
    },
    "vscode": {
     "languageId": "dotnet-interactive.csharp"
    }
   },
   "outputs": [],
   "source": []
  }
 ],
 "metadata": {
  "kernelspec": {
   "display_name": ".NET (C#)",
   "language": "C#",
   "name": ".net-csharp"
  },
  "language_info": {
   "file_extension": ".cs",
   "mimetype": "text/x-csharp",
   "name": "C#",
   "pygments_lexer": "csharp",
   "version": "9.0"
  },
  "orig_nbformat": 4
 },
 "nbformat": 4,
 "nbformat_minor": 2
}
