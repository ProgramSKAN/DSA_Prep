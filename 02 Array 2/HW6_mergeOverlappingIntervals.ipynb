{
 "cells": [
  {
   "cell_type": "markdown",
   "metadata": {},
   "source": [
    "# Merge Overlapping Intervals\n",
    "```\n",
    " Given a collection of intervals, merge all overlapping intervals.\n",
    "\n",
    "Problem Constraints\n",
    "1 <= Total number of intervals <= 100000.\n",
    "\n",
    "Input Format : First argument is a list of intervals.\n",
    "Output Format : Return the sorted list of intervals after merging all the overlapping intervals.\n",
    "\n",
    "Example Input\n",
    "Input 1 : [1,3],[2,6],[8,10],[15,18]\n",
    "Example Output\n",
    "Output 1 : [1,6],[8,10],[15,18]\n",
    "\n",
    "Example Explanation\n",
    "Explanation 1:\n",
    "Merge intervals [1,3] and [2,6] -> [1,6].\n",
    "so, the required answer after merging is [1,6],[8,10],[15,18].\n",
    "No more overlapping intervals present.\n",
    "\n",
    "Definition for an interval.\n",
    "class Interval:\n",
    "    def __init__(self, s=0, e=0):\n",
    "        self.start = s\n",
    "        self.end = e"
   ]
  },
  {
   "cell_type": "code",
   "execution_count": null,
   "metadata": {
    "dotnet_interactive": {
     "language": "csharp"
    },
    "vscode": {
     "languageId": "dotnet-interactive.csharp"
    }
   },
   "outputs": [],
   "source": [
    "class Interval{\n",
    "    public int start;\n",
    "    public int end;\n",
    "    public Interval(int start=0, int end=0){\n",
    "        this.start=start;\n",
    "        this.end=end;\n",
    "    }\n",
    "}"
   ]
  },
  {
   "cell_type": "code",
   "execution_count": null,
   "metadata": {
    "dotnet_interactive": {
     "language": "csharp"
    },
    "vscode": {
     "languageId": "dotnet-interactive.csharp"
    }
   },
   "outputs": [
    {
     "name": "stdout",
     "output_type": "stream",
     "text": [
      "[1,6],[8,10],[15,18],"
     ]
    }
   ],
   "source": [
    "Interval[] MergeOverlap(Interval[] arr){ //O(nlogn) time O(1) space\n",
    "    Array.Sort(arr,new SortHelper());\n",
    "\n",
    "    int n=arr.Length;\n",
    "    int idx=0;\n",
    "\n",
    "    //if cuurent element overlaps with previous element then merge\n",
    "    for(int i=1;i<n;i++){\n",
    "        if(arr[i].start < arr[idx].end){\n",
    "            arr[idx].end=Math.Max(arr[idx].end,arr[i].end);\n",
    "        }else{\n",
    "            idx++;\n",
    "            arr[idx]=arr[i];\n",
    "        }\n",
    "    }\n",
    "\n",
    "    return arr[..(n-1)];\n",
    "}\n",
    "\n",
    "var intervals=new Interval[]{\n",
    "    new Interval(1,3),\n",
    "    new Interval(2,6),\n",
    "    new Interval(8,10),\n",
    "    new Interval(15,18)\n",
    "};\n",
    "\n",
    "foreach (var i in MergeOverlap(intervals))\n",
    "{\n",
    "    Console.Write($\"[{i.start},{i.end}],\");\n",
    "}"
   ]
  },
  {
   "cell_type": "code",
   "execution_count": null,
   "metadata": {
    "dotnet_interactive": {
     "language": "csharp"
    },
    "vscode": {
     "languageId": "dotnet-interactive.csharp"
    }
   },
   "outputs": [],
   "source": []
  }
 ],
 "metadata": {
  "kernelspec": {
   "display_name": ".NET (C#)",
   "language": "C#",
   "name": ".net-csharp"
  },
  "language_info": {
   "file_extension": ".cs",
   "mimetype": "text/x-csharp",
   "name": "C#",
   "pygments_lexer": "csharp",
   "version": "9.0"
  },
  "orig_nbformat": 4
 },
 "nbformat": 4,
 "nbformat_minor": 2
}
