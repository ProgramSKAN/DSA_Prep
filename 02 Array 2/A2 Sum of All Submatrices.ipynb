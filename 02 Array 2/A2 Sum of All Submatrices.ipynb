{
 "cells": [
  {
   "cell_type": "markdown",
   "metadata": {},
   "source": [
    "Sum of all Submatrices\n",
    "```\n",
    "Given a 2D Matrix of dimensions N*N, we need to return sum of all possible submatrices. Example Input\n",
    "[ [1,1],\n",
    "  [1,1] ]\n",
    "Example Output\n",
    "16\n",
    "Explanation\n",
    "Number of submatrices with 1 elements = 4, so sum of all such submatrices = 4*1 = 4\n",
    "Number of submatrices with 2 elements = 4, so sum of all such submatrices = 4*2 = 8\n",
    "Number of submatrices with 3 elements = 0\n",
    "Number of submatrices with 4 elements = 1, so sum of such submatrix = 4\n",
    "\n",
    "Total Sum = 4+8+4 = 16"
   ]
  },
  {
   "cell_type": "code",
   "execution_count": null,
   "metadata": {
    "dotnet_interactive": {
     "language": "csharp"
    },
    "vscode": {
     "languageId": "dotnet-interactive.csharp"
    }
   },
   "outputs": [
    {
     "name": "stdout",
     "output_type": "stream",
     "text": [
      "16\r\n"
     ]
    }
   ],
   "source": [
    "int SubMatrixSum(int[][] arr){  //Brute Force :: O(n^6) time, O(1) space\n",
    "    int n = arr.Length;\n",
    "    int sum=0;\n",
    "    for(int i=0; i<n; i++){  //o(n)\n",
    "        for(int j=0; j<n; j++){  // O(n)\n",
    "            int firstCell=arr[i][j]; \n",
    "            for(int k=i; k<n; k++){ // O(n-1)\n",
    "                for(int l =j; l<n; l++){ // O(n-j)\n",
    "                    int secondCell=arr[k][l];\n",
    "                    //first and second cell forms as sub matrix. find sum of all sub matrix inside that.\n",
    "                    //how? go over each cell\n",
    "                    for(int a=i;a<=k;a++){ // O(k-i)\n",
    "                        for(int b=j;b<=l;b++){ // O(l-j)\n",
    "                            sum+=arr[a][b];\n",
    "                        }\n",
    "                    }\n",
    "\n",
    "                }\n",
    "            }\n",
    "        }\n",
    "    }\n",
    "\n",
    "    return sum;\n",
    "}\n",
    "\n",
    "var arr = new int[][] {\n",
    "   new int[] {1,1},\n",
    "   new int[] {1,1}\n",
    "};\n",
    "int sum=SubMatrixSum(arr);\n",
    "Console.WriteLine(sum);\n"
   ]
  },
  {
   "cell_type": "code",
   "execution_count": null,
   "metadata": {
    "dotnet_interactive": {
     "language": "csharp"
    },
    "vscode": {
     "languageId": "dotnet-interactive.csharp"
    }
   },
   "outputs": [
    {
     "name": "stdout",
     "output_type": "stream",
     "text": [
      "100\r\n"
     ]
    }
   ],
   "source": [
    "// memoize the already calculated array (DP approach) >> O(n^4) time\n",
    "\n",
    "//get the total contribution of each cell in final sum\n",
    "//GENERAL:(REVERSE LOOKUP) not optimize instead of cheking the element every time. check the contribution of that element in final result.\n",
    "int SubMatrixSum1(int[][] arr){  //Brute Force :: O(n^6) time, O(1) space\n",
    "    int n = arr.Length;\n",
    "    int sum=0;\n",
    "    for(int i=0; i<n; i++){ \n",
    "        for(int j=0; j<n; j++){  \n",
    "            //how many submatrices have this element?\n",
    "\n",
    "            int top_left = (i+1) * (j+1);\n",
    "            int bottom_right = (n-i) * (n-j);\n",
    "            sum+= (top_left * bottom_right * arr[i][j]);\n",
    "        }    \n",
    "    }\n",
    "\n",
    "    return sum;\n",
    "}\n",
    "\n",
    "var arr1 = new int[][] {\n",
    "   new int[] {1,1,1},\n",
    "   new int[] {1,1,1},\n",
    "   new int[] {1,1,1}\n",
    "};\n",
    "int sum1=SubMatrixSum1(arr1);\n",
    "Console.WriteLine(sum1);"
   ]
  },
  {
   "cell_type": "code",
   "execution_count": null,
   "metadata": {
    "dotnet_interactive": {
     "language": "csharp"
    },
    "vscode": {
     "languageId": "dotnet-interactive.csharp"
    }
   },
   "outputs": [],
   "source": []
  }
 ],
 "metadata": {
  "kernelspec": {
   "display_name": ".NET (C#)",
   "language": "C#",
   "name": ".net-csharp"
  },
  "language_info": {
   "file_extension": ".cs",
   "mimetype": "text/x-csharp",
   "name": "C#",
   "pygments_lexer": "csharp",
   "version": "9.0"
  },
  "orig_nbformat": 4
 },
 "nbformat": 4,
 "nbformat_minor": 2
}
