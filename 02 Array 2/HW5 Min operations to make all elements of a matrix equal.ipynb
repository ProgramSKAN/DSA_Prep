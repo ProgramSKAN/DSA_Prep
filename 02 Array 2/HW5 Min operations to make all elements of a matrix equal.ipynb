{
 "cells": [
  {
   "cell_type": "markdown",
   "metadata": {},
   "source": [
    "Minimum operations of given type to make all elements of a matrix equal\n",
    "\n",
    "https://leetcode.com/problems/minimum-operations-to-make-array-equal/\n",
    "\n",
    "```\n",
    "Given a matrix of integers A of size N x M and an integer B. In a single operation, \n",
    "B can be added to or subtracted from any element of the matrix. Find and return the\n",
    "minimum number of operations required to make all the elements of the matrix equal and if it \n",
    "impossible return -1 instead. Note: Rows are numbered from top to bottom and columns are \n",
    "numbered from left to right. \n",
    "\n",
    "Input Format\n",
    "The first argument given is the integer matrix A.\n",
    "The second argument given is the integer B.\n",
    "\n",
    "Output Format\n",
    "Return the minimum number of operations required to make all the elements of the matrix equal \n",
    "and if it impossible return -1 instead.\n",
    "\n",
    "Constraints\n",
    "1 <= N, M <= 1000\n",
    "-1000 <= A[i] <= 1000\n",
    "1 <= B <= 1000\n",
    "\n",
    "For Example\n",
    "Input 1:\n",
    "    A = [   [0, 2, 8]\n",
    "            [8, 2, 0]\n",
    "            [0, 2, 8]   ]\n",
    "    B = 2\n",
    "Output 1:\n",
    "    12\n",
    "\n",
    "Input 2:\n",
    "    A = [   [5, 17, 100, 11]\n",
    "            [0, 0,  2,   8]    ]\n",
    "    B = 3\n",
    "Output 2:\n",
    "    -1"
   ]
  },
  {
   "cell_type": "code",
   "execution_count": null,
   "metadata": {
    "dotnet_interactive": {
     "language": "csharp"
    },
    "vscode": {
     "languageId": "dotnet-interactive.csharp"
    }
   },
   "outputs": [],
   "source": [
    "\n",
    "   "
   ]
  },
  {
   "cell_type": "code",
   "execution_count": null,
   "metadata": {
    "dotnet_interactive": {
     "language": "csharp"
    },
    "vscode": {
     "languageId": "dotnet-interactive.csharp"
    }
   },
   "outputs": [
    {
     "name": "stdout",
     "output_type": "stream",
     "text": [
      "2,2,2,2,2,2,2,2,2\r\n",
      "12\r\n"
     ]
    }
   ],
   "source": [
    "int MinStepsToEqual(int[][] matrix,int num){\n",
    "    int rows=matrix.Length;\n",
    "    int cols=matrix[0].Length;\n",
    "\n",
    "    var arr=new int[rows*cols];\n",
    "    int n=arr.Length;\n",
    "    int count=0;\n",
    "    foreach(var i in matrix){\n",
    "        foreach(var j in i){\n",
    "            arr[count]=j;\n",
    "            count++;\n",
    "        }\n",
    "    }\n",
    "\n",
    "    Array.Sort(arr);\n",
    "    int median=int.MinValue;\n",
    "\n",
    "    //get the median number of sorted array and decremnt left and increment right to make equal\n",
    "    if(arr.Length%2==0)\n",
    "        median=(arr[n/2] + arr[n/2 +1])/2;\n",
    "    else\n",
    "        median=arr[n/2];\n",
    "\n",
    "    \n",
    "    int steps=0;\n",
    "    \n",
    "   for(int i=0;i<n;i++){\n",
    "        while(arr[i]<median){\n",
    "            arr[i]+=num;\n",
    "            steps++;\n",
    "        }\n",
    "        while(arr[i]>median){\n",
    "            arr[i]-=num;\n",
    "            steps++;\n",
    "        }\n",
    "   }\n",
    "\n",
    "\n",
    "    Console.WriteLine(String.Join(\",\",arr));\n",
    "\n",
    "    return steps;\n",
    "}\n",
    "\n",
    "var matrix = new int[][] {\n",
    "   new int[] {0, 2, 8},\n",
    "   new int[] {8, 2, 0},\n",
    "   new int[] {0, 2, 8}\n",
    "};\n",
    "int sum1=MinStepsToEqual(matrix,2);\n",
    "Console.WriteLine(sum1);"
   ]
  },
  {
   "cell_type": "code",
   "execution_count": null,
   "metadata": {
    "dotnet_interactive": {
     "language": "csharp"
    },
    "vscode": {
     "languageId": "dotnet-interactive.csharp"
    }
   },
   "outputs": [],
   "source": []
  }
 ],
 "metadata": {
  "kernelspec": {
   "display_name": ".NET (C#)",
   "language": "C#",
   "name": ".net-csharp"
  },
  "language_info": {
   "file_extension": ".cs",
   "mimetype": "text/x-csharp",
   "name": "C#",
   "pygments_lexer": "csharp",
   "version": "9.0"
  },
  "orig_nbformat": 4
 },
 "nbformat": 4,
 "nbformat_minor": 2
}
