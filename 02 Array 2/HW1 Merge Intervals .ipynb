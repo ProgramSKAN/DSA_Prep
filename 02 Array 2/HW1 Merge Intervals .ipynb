{
 "cells": [
  {
   "cell_type": "markdown",
   "metadata": {},
   "source": [
    "Merge Intervals \n",
    "https://leetcode.com/problems/merge-intervals/\n",
    "\n",
    "```\n",
    "Given a set of non-overlapping intervals, insert a new interval into the intervals (merge if necessary). \n",
    "You may assume that the intervals were initially sorted according to their start times. \n",
    "\n",
    "Example 1: Given intervals [1,3],[6,9] insert and merge [2,5] would result in [1,5],[6,9]. \n",
    "\n",
    "Example 2: Given [1,2],[3,5],[6,7],[8,10],[12,16], insert and merge [4,9] would result in [1,2],[3,10],[12,16]. \n",
    "This is because the new interval [4,9] overlaps with [3,5],[6,7],[8,10]. \n",
    "\n",
    "Make sure the returned intervals are also sorted."
   ]
  },
  {
   "cell_type": "code",
   "execution_count": null,
   "metadata": {
    "dotnet_interactive": {
     "language": "csharp"
    },
    "vscode": {
     "languageId": "dotnet-interactive.csharp"
    }
   },
   "outputs": [
    {
     "name": "stdout",
     "output_type": "stream",
     "text": [
      "1 , 2 , \n",
      "3 , 10 , \n",
      "12 , 16 , \n"
     ]
    }
   ],
   "source": [
    "int[][] MergeIntervals(int[][] arr,int[] interval){\n",
    "    if(arr == null || arr.Length==0 || arr.Length==1){\n",
    "        return arr;\n",
    "    }\n",
    "\n",
    "    var res=new List<int[]>();\n",
    "    arr=arr.OrderBy(x=>x[0]).ToArray();\n",
    "\n",
    "    int n=arr.Length;\n",
    "\n",
    "    int s = interval[0], e = interval[1];\n",
    "    int left=0, right=0;\n",
    "    while(right < n){\n",
    "        int currStart=arr[right][0];\n",
    "        int currEnd=arr[right][1];\n",
    "\n",
    "        if(s < currEnd){\n",
    "            if(e < currStart)\n",
    "                break;\n",
    "            \n",
    "            s=Math.Min(s,currStart);\n",
    "            e=Math.Max(e,currEnd);\n",
    "        }else{\n",
    "            left+=1;\n",
    "        }\n",
    "        right+=1;\n",
    "    }\n",
    "\n",
    "    foreach(var i in arr[..left]){\n",
    "        res.Add(i);\n",
    "    }\n",
    "    res.Add(new int[]{s,e});\n",
    "    foreach(var j in arr[right..]){\n",
    "        res.Add(j);\n",
    "    }\n",
    "\n",
    " return res.ToArray();\n",
    "}\n",
    "\n",
    "var arr=new int[][]{\n",
    "    new int[]{1,2},\n",
    "    new int[]{3,5},\n",
    "    new int[]{6,7},\n",
    "    new int[]{8,10},\n",
    "    new int[]{12,16}\n",
    "};\n",
    "\n",
    "var interval=new int[]{4,9};\n",
    "\n",
    "foreach(var k in MergeIntervals(arr,interval)){\n",
    "    foreach(var l in k){\n",
    "        Console.Write(l+\" , \");\n",
    "    }\n",
    "    Console.Write(\"\\n\");\n",
    "}"
   ]
  },
  {
   "cell_type": "code",
   "execution_count": null,
   "metadata": {
    "dotnet_interactive": {
     "language": "csharp"
    },
    "vscode": {
     "languageId": "dotnet-interactive.csharp"
    }
   },
   "outputs": [],
   "source": []
  }
 ],
 "metadata": {
  "kernelspec": {
   "display_name": ".NET (C#)",
   "language": "C#",
   "name": ".net-csharp"
  },
  "language_info": {
   "file_extension": ".cs",
   "mimetype": "text/x-csharp",
   "name": "C#",
   "pygments_lexer": "csharp",
   "version": "9.0"
  },
  "orig_nbformat": 4
 },
 "nbformat": 4,
 "nbformat_minor": 2
}
