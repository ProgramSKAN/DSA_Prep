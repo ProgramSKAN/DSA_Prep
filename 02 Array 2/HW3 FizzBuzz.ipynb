{
 "cells": [
  {
   "cell_type": "markdown",
   "metadata": {},
   "source": [
    "FizzBuzz https://leetcode.com/problems/fizz-buzz/\n",
    "\n",
    "```\n",
    "Fizzbuzz is one of the most basic problems in the coding interview world. \n",
    "    Try to write a small and elegant code for this problem. \n",
    "Given a positive integer A, return an array of strings with all the integers from 1 to N. \n",
    "But for multiples of 3 the array should have “Fizz” instead of the number. For the multiples of 5, the array should have “Buzz” instead of the number. For numbers which are multiple of 3 and 5 both, the array should have \"FizzBuzz\" instead of the number. Look at the example for more details. Example\n",
    "A = 5\n",
    "Return: [1 2 Fizz 4 Buzz]"
   ]
  },
  {
   "cell_type": "code",
   "execution_count": null,
   "metadata": {
    "dotnet_interactive": {
     "language": "csharp"
    },
    "vscode": {
     "languageId": "dotnet-interactive.csharp"
    }
   },
   "outputs": [
    {
     "name": "stdout",
     "output_type": "stream",
     "text": [
      "1,2,Fizz,4,Buzz\r\n"
     ]
    }
   ],
   "source": [
    "string[] FizzBuzz(int num){\n",
    "    var res=new string[num];\n",
    "\n",
    "    int idx=0;\n",
    "    for(int i=1;i<=num;i++){\n",
    "        if(i%3==0 && i%5==0){\n",
    "            res[idx]=\"FizzBuzz\";\n",
    "        }else if(i%3==0){\n",
    "            res[idx]=\"Fizz\";\n",
    "        }else if(i%5==0){\n",
    "            res[idx]=\"Buzz\";\n",
    "        }else{\n",
    "            res[idx]=$\"{i}\";\n",
    "        }\n",
    "        idx++;\n",
    "    }\n",
    "\n",
    "    return res;\n",
    "}\n",
    "\n",
    "Console.WriteLine(String.Join(\",\",FizzBuzz(5)));"
   ]
  },
  {
   "cell_type": "code",
   "execution_count": null,
   "metadata": {
    "dotnet_interactive": {
     "language": "csharp"
    },
    "vscode": {
     "languageId": "dotnet-interactive.csharp"
    }
   },
   "outputs": [],
   "source": []
  }
 ],
 "metadata": {
  "kernelspec": {
   "display_name": ".NET (C#)",
   "language": "C#",
   "name": ".net-csharp"
  },
  "language_info": {
   "file_extension": ".cs",
   "mimetype": "text/x-csharp",
   "name": "C#",
   "pygments_lexer": "csharp",
   "version": "9.0"
  },
  "orig_nbformat": 4
 },
 "nbformat": 4,
 "nbformat_minor": 2
}
