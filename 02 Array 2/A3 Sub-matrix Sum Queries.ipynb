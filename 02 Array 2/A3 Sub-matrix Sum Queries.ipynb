{
 "cells": [
  {
   "cell_type": "markdown",
   "metadata": {},
   "source": [
    "Sub-matrix Sum Queries\n",
    "```\n",
    "Given a matrix of integers A of size N x M and multiple queries Q, for each query find and return the submatrix sum. Inputs to queries are top left (b, c) and bottom right (d, e) indexes of submatrix whose sum is to find out. Note: Rows are numbered from top to bottom and columns are numbered from left to right. Sum may be large so return the answer mod 10^9 + 7. \n",
    "Input Format\n",
    "The first argument given is the integer matrix A.\n",
    "The second argument given is the integer array B.\n",
    "The third argument given is the integer array C.\n",
    "The fourth argument given is the integer array D.\n",
    "The fifth argument given is the integer array E.\n",
    "(B[i], C[i]) represents the top left corner of the i'th query.\n",
    "(D[i], E[i]) represents the bottom right corner of the i'th query.\n",
    "Output Format\n",
    "Return the submatrix sum (% 10^9 + 7) for each query in the form of an integer array.\n",
    "Constraints\n",
    "1 <= N, M <= 1000\n",
    "-100000 <= A[i] <= 100000\n",
    "1 <= Q <= 100000\n",
    "1 <= B[i] <= D[i] <= N\n",
    "1 <= C[i] <= E[i] <= M\n",
    "For Example\n",
    "Input 1:\n",
    "    A = [   [1, 2, 3]\n",
    "            [4, 5, 6]\n",
    "            [7, 8, 9]   ]\n",
    "    B = [1, 2]\n",
    "    C = [1, 2]\n",
    "    D = [2, 3]\n",
    "    E = [2, 3]\n",
    "Output 1:\n",
    "    [12, 28]\n",
    "\n",
    "Input 2:\n",
    "    A = [   [5, 17, 100, 11]\n",
    "            [0, 0,  2,   8]    ]\n",
    "    B = [1, 1]\n",
    "    C = [1, 4]\n",
    "    D = [2, 2]\n",
    "    E = [2, 4]\n",
    "Output 2:\n",
    "    [22, 19]"
   ]
  },
  {
   "cell_type": "code",
   "execution_count": null,
   "metadata": {
    "dotnet_interactive": {
     "language": "csharp"
    },
    "vscode": {
     "languageId": "dotnet-interactive.csharp"
    }
   },
   "outputs": [
    {
     "name": "stdout",
     "output_type": "stream",
     "text": [
      "12,28\r\n"
     ]
    }
   ],
   "source": [
    "//GENERAL: (PREFIX SUM MATRIX)\n",
    "\n",
    "int[] SubMatrixSumQuery(int[][] arr,int[] b,int[] c,int[] d,int[] e){ //O(n*m + q) time  //q is # of queries \n",
    "\n",
    "    var res=new  int[2];\n",
    "\n",
    "    int n=arr.Length;\n",
    "    int m=arr[0].Length;\n",
    "\n",
    "    //row prefix sum\n",
    "    for(int i=0; i<n; i++){\n",
    "        int sum=0;\n",
    "        for(int j=0; j<m; j++){\n",
    "            sum += arr[i][j];\n",
    "            arr[i][j] = sum;\n",
    "        }\n",
    "    }\n",
    "\n",
    "    //column prefix sum\n",
    "    for(int i=0; i<m; i++){\n",
    "        int sum=0;\n",
    "        for(int j=0; j<n; j++){\n",
    "            sum += arr[j][i];\n",
    "            arr[j][i] = sum;\n",
    "        }\n",
    "    }\n",
    "\n",
    "    var queries=b.Length;\n",
    "    int idx=0;\n",
    "    while(queries>0){\n",
    "        //top left\n",
    "        int i = b[idx]-1;\n",
    "        int j = c[idx]-1;\n",
    "\n",
    "         //bootom left\n",
    "        int x = d[idx]-1;\n",
    "        int y = e[idx]-1;\n",
    "\n",
    "        int mtxSum=0, topArraySum=0,leftArraySum=0, doubleCountedCell=0;\n",
    "\n",
    "\n",
    "        if(i>0)\n",
    "            topArraySum = arr[i-1][y];\n",
    "        \n",
    "        if(j>0)\n",
    "            leftArraySum = arr[x][j-1];\n",
    "\n",
    "        if(i>0 && j>0)\n",
    "            doubleCountedCell = arr[i-1][j-1];\n",
    "\n",
    "        mtxSum = arr[x][y] - topArraySum -leftArraySum + doubleCountedCell; \n",
    "        res[idx]=mtxSum;\n",
    "        queries--;\n",
    "        idx++;\n",
    "    }\n",
    "\n",
    "    return res;\n",
    "}\n",
    "\n",
    "var arr=new int[][]{\n",
    "    new int[]{1,2,3},\n",
    "    new int[]{4,5,6},\n",
    "    new int[]{7,8,9}\n",
    "};\n",
    "\n",
    "var B=new int[] {1,2};\n",
    "var C=new int[] {1,2};\n",
    "var D=new int[] {2,3};\n",
    "var E=new int[] {2,3};\n",
    "\n",
    "Console.WriteLine(String.Join(\",\",SubMatrixSumQuery(arr,B,C,D,E)));"
   ]
  },
  {
   "cell_type": "code",
   "execution_count": null,
   "metadata": {
    "dotnet_interactive": {
     "language": "csharp"
    },
    "vscode": {
     "languageId": "dotnet-interactive.csharp"
    }
   },
   "outputs": [],
   "source": []
  }
 ],
 "metadata": {
  "kernelspec": {
   "display_name": ".NET (C#)",
   "language": "C#",
   "name": ".net-csharp"
  },
  "language_info": {
   "file_extension": ".cs",
   "mimetype": "text/x-csharp",
   "name": "C#",
   "pygments_lexer": "csharp",
   "version": "9.0"
  },
  "orig_nbformat": 4
 },
 "nbformat": 4,
 "nbformat_minor": 2
}
