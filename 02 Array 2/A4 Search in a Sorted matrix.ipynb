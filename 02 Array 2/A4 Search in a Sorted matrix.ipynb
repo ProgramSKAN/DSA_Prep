{
 "cells": [
  {
   "cell_type": "markdown",
   "metadata": {},
   "source": [
    "Search in a row wise and column wise sorted matrix\n",
    "```Problem Description\n",
    "Given a matrix of integers A of size N x M and an integer B. In the given matrix every row and column is sorted in increasing order. Find and return the position of B in the matrix in the given form:\n",
    "If A[i][j] = B then return (i * 1009 + j)\n",
    "If B is not present return -1.\n",
    "\n",
    "Note 1: Rows are numbered from top to bottom and columns are numbered from left to right.\n",
    "Note 2: If there are multiple B in A then return the smallest value of i*1009 +j such that A[i][j]=B.\n",
    "\n",
    "\n",
    "Problem Constraints\n",
    "1 <= N, M <= 1000\n",
    "-100000 <= A[i] <= 100000\n",
    "-100000 <= B <= 100000\n",
    "\n",
    "\n",
    "Input Format\n",
    "The first argument given is the integer matrix A.\n",
    "The second argument given is the integer B.\n",
    "\n",
    "\n",
    "Output Format\n",
    "Return the position of B and if it is not present in A return -1 instead.\n",
    "\n",
    "\n",
    "Example Input\n",
    "A = [ [1, 2, 3]\n",
    "          [4, 5, 6]\n",
    "          [7, 8, 9] ]\n",
    "B = 2\n",
    "\n",
    "\n",
    "Example Output\n",
    "1011\n",
    "\n",
    "\n",
    "Example Explanation\n",
    "A[1][2]= 2\n",
    "1*1009 + 2 =1011"
   ]
  },
  {
   "cell_type": "code",
   "execution_count": null,
   "metadata": {
    "dotnet_interactive": {
     "language": "csharp"
    },
    "vscode": {
     "languageId": "dotnet-interactive.csharp"
    }
   },
   "outputs": [
    {
     "name": "stdout",
     "output_type": "stream",
     "text": [
      "1011\r\n"
     ]
    }
   ],
   "source": [
    "//Bruteforce : loop every element. O(n^2) time\n",
    "//optimal 1 : binary search every row. O(n*logn) time | n:# of rows, logn: binary search\n",
    "\n",
    "int SearchInMatrix(int[][] arr, int target){\n",
    "    int rows=arr.Length;\n",
    "    int cols=arr[0].Length;\n",
    "\n",
    "    //start cell is top right. and then decrement by dicarding col or row\n",
    "    int i=0,j=cols-1;\n",
    "    while(rows>i && cols >= j ){\n",
    "        int curr = arr[i][j];\n",
    "        if(curr > target){\n",
    "            j-=1;\n",
    "        }else if(curr < target){\n",
    "            i+=1;\n",
    "        }else if(curr==target){\n",
    "            return (i+1)*1009 + (j+1);\n",
    "        }\n",
    "    }\n",
    "    return -1;\n",
    "}\n",
    "\n",
    "var arr=new int[][]{\n",
    "    new int[]{1,2,3},\n",
    "    new int[]{4,5,6},\n",
    "    new int[]{7,8,9}\n",
    "};\n",
    "\n",
    "Console.WriteLine(SearchInMatrix(arr, 2));"
   ]
  },
  {
   "cell_type": "code",
   "execution_count": null,
   "metadata": {
    "dotnet_interactive": {
     "language": "csharp"
    },
    "vscode": {
     "languageId": "dotnet-interactive.csharp"
    }
   },
   "outputs": [],
   "source": []
  }
 ],
 "metadata": {
  "kernelspec": {
   "display_name": ".NET (C#)",
   "language": "C#",
   "name": ".net-csharp"
  },
  "language_info": {
   "file_extension": ".cs",
   "mimetype": "text/x-csharp",
   "name": "C#",
   "pygments_lexer": "csharp",
   "version": "9.0"
  },
  "orig_nbformat": 4
 },
 "nbformat": 4,
 "nbformat_minor": 2
}
