{
 "cells": [
  {
   "cell_type": "markdown",
   "metadata": {},
   "source": [
    "Max Chunks To Make Sorted II\n",
    "```\n",
    "Given an array of integers (not necessarily distinct) A, if we split the array into some \n",
    "number of \"chunks\" (partitions), and individually sort each chunk. After concatenating them, \n",
    "the result equals the sorted array. What is the most number of chunks we could have made? \n",
    "Input Format\n",
    "The only argument given is the integer array A.\n",
    "Output Format\n",
    "Return the maximum number of chunks that we could have made.\n",
    "Constraints\n",
    "1 <= N <= 100000\n",
    "-10^9 <= A[i] <= 10^9\n",
    "For Example\n",
    "Input 1:\n",
    "    A = [3, 2, 3, 4, 0]\n",
    "Output 1:\n",
    "    1\n",
    "\n",
    "Input 2:\n",
    "    A = [2, 0, 1, 2]\n",
    "Output 2:\n",
    "    2\n"
   ]
  },
  {
   "cell_type": "code",
   "execution_count": null,
   "metadata": {
    "dotnet_interactive": {
     "language": "csharp"
    },
    "vscode": {
     "languageId": "dotnet-interactive.csharp"
    }
   },
   "outputs": [
    {
     "name": "stdout",
     "output_type": "stream",
     "text": [
      "2\r\n"
     ]
    }
   ],
   "source": [
    "int MaxChunks(int[] arr){\n",
    "    int n=arr.Length;\n",
    "\n",
    "    int[] arr2=new int[n];\n",
    "    arr.CopyTo(arr2,0);\n",
    "    Array.Sort(arr2);\n",
    "\n",
    "    int sum1=0,sum2=0,chunks=0;\n",
    "    for(int i=0;i<n;i++){\n",
    "        sum1+=arr[i];\n",
    "        sum2+=arr2[i];\n",
    "        if(sum1==sum2){\n",
    "            chunks++;\n",
    "        }\n",
    "    }\n",
    "\n",
    "    return chunks;\n",
    "}\n",
    "\n",
    "var arr=new int[]{2,0,1,2};\n",
    "Console.WriteLine(MaxChunks(arr));"
   ]
  },
  {
   "cell_type": "code",
   "execution_count": null,
   "metadata": {
    "dotnet_interactive": {
     "language": "csharp"
    },
    "vscode": {
     "languageId": "dotnet-interactive.csharp"
    }
   },
   "outputs": [],
   "source": []
  }
 ],
 "metadata": {
  "kernelspec": {
   "display_name": ".NET (C#)",
   "language": "C#",
   "name": ".net-csharp"
  },
  "language_info": {
   "file_extension": ".cs",
   "mimetype": "text/x-csharp",
   "name": "C#",
   "pygments_lexer": "csharp",
   "version": "9.0"
  },
  "orig_nbformat": 4
 },
 "nbformat": 4,
 "nbformat_minor": 2
}
