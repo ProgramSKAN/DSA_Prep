{
 "cells": [
  {
   "cell_type": "markdown",
   "metadata": {},
   "source": [
    "Spiral Order Matrix II\n",
    "\n",
    "```Given an integer A, generate a square matrix filled with elements from 1 to A2 in spiral order. \n",
    " Input Format:\n",
    "The first and the only argument contains an integer, A.\n",
    "Output Format:\n",
    "Return a 2-d matrix of size A x A satisfying the spiral order.\n",
    "\n",
    "Constraints:\n",
    "1 <= A <= 1000\n",
    "\n",
    "Examples:\n",
    "\n",
    "Input 1:\n",
    "    A = 3\n",
    "\n",
    "Output 1:\n",
    "    [   [ 1, 2, 3 ],\n",
    "        [ 8, 9, 4 ],\n",
    "        [ 7, 6, 5 ]   ]\n",
    "\n",
    "Input 2:\n",
    "    4\n",
    "\n",
    "Output 2:\n",
    "    [   [1, 2, 3, 4],\n",
    "        [12, 13, 14, 5],\n",
    "        [11, 16, 15, 6],\n",
    "        [10, 9, 8, 7]   ]"
   ]
  },
  {
   "cell_type": "code",
   "execution_count": null,
   "metadata": {
    "dotnet_interactive": {
     "language": "csharp"
    },
    "vscode": {
     "languageId": "dotnet-interactive.csharp"
    }
   },
   "outputs": [
    {
     "name": "stdout",
     "output_type": "stream",
     "text": [
      "1 , 2 , 3 , 4 , \n",
      "12 , 13 , 14 , 5 , \n",
      "11 , 16 , 15 , 6 , \n",
      "10 , 9 , 8 , 7 , \n"
     ]
    }
   ],
   "source": [
    "int[][] GenerateSpiralMatrix(int n){\n",
    "    var res=new int[n][];\n",
    "    for(int k=0;k<n;k++){\n",
    "        res[k]=new int[n];\n",
    "    }\n",
    "\n",
    "    int cnt=1;\n",
    "    //traverse layer by layer\n",
    "    //3*3 matrix > 2 layers\n",
    "    //4*4 matrix > 2 layers\n",
    "    //6*6 matrix > 3 layers\n",
    "    //n*n matrix > (n+1)/2\n",
    "\n",
    "    for(int layer=0; layer< (n+1)/2; layer++){\n",
    "        //left to right\n",
    "        //(layer,layer)  --> (layer,n-1-layer)\n",
    "        for(int i=layer; i<n-layer;i++){\n",
    "            res[layer][i]=cnt++;\n",
    "        }\n",
    "\n",
    "        //top to bottom\n",
    "        //(layer+1,n-1-layer)  --> (n-1-layer,n-1-layer)\n",
    "        for(int i=layer+1; i<n-layer;i++){\n",
    "            res[i][n-1-layer]=cnt++;\n",
    "        }\n",
    "\n",
    "        //right to left\n",
    "        //(n-1-layer,n-1-layer -1)  --> (n-1-layer,layer)\n",
    "        for(int i=n-1-layer -1; i>=layer;i--){\n",
    "            res[n-1-layer][i]=cnt++;\n",
    "        }\n",
    "\n",
    "        //bottom to top\n",
    "        //(n-1-layer -1,layer)  --> (layer+1,layer)\n",
    "        for(int i=n-1-layer -1; i>=layer+1;i--){\n",
    "            res[i][layer]=cnt++;\n",
    "        }\n",
    "        \n",
    "    }\n",
    "    \n",
    "\n",
    "    return res;\n",
    "\n",
    "}\n",
    "\n",
    "\n",
    "\n",
    "var matrix=GenerateSpiralMatrix(4);\n",
    "foreach(var subArr in matrix){\n",
    "    foreach(var i in subArr){\n",
    "        Console.Write(i+\" , \");\n",
    "    }\n",
    "    Console.Write(\"\\n\");\n",
    "}\n"
   ]
  },
  {
   "cell_type": "code",
   "execution_count": null,
   "metadata": {
    "dotnet_interactive": {
     "language": "csharp"
    },
    "vscode": {
     "languageId": "dotnet-interactive.csharp"
    }
   },
   "outputs": [
    {
     "name": "stdout",
     "output_type": "stream",
     "text": [
      "1 , 2 , 3 , 4 , 5 , 6 , \n",
      "20 , 21 , 22 , 23 , 24 , 7 , \n",
      "19 , 32 , 33 , 34 , 25 , 8 , \n",
      "18 , 31 , 36 , 35 , 26 , 9 , \n",
      "17 , 30 , 29 , 28 , 27 , 10 , \n",
      "16 , 15 , 14 , 13 , 12 , 11 , \n"
     ]
    }
   ],
   "source": [
    "int[][] GenerateSpiralMatrix1(int n){\n",
    "    var res=new int[n][];\n",
    "    for(int k=0;k<n;k++){\n",
    "        res[k]=new int[n];\n",
    "    }\n",
    "    \n",
    "    \n",
    "    int cnt=1;\n",
    "    int left=0,right=n-1, top=0, bottom=n-1;\n",
    "\n",
    " \n",
    "    while(true){\n",
    "        if(left>right)\n",
    "            break;\n",
    "        \n",
    "        //left to right\n",
    "        for(int i=left;i<=right;i++){\n",
    "            res[top][i]=cnt++;\n",
    "        }\n",
    "        top++;\n",
    "        if(top>bottom) \n",
    "            break;\n",
    "\n",
    "        //top to bottom\n",
    "        for(int i=top;i<=bottom;i++){\n",
    "            res[i][right]=cnt++;\n",
    "        }\n",
    "        right--;\n",
    "        if(left>right)\n",
    "            break;\n",
    "\n",
    "        //right to left\n",
    "        for(int i=right;i>=left;i--){\n",
    "            res[bottom][i]=cnt++;\n",
    "        }\n",
    "        bottom--;\n",
    "        if(top>bottom) \n",
    "            break;\n",
    "\n",
    "        //bottom to top\n",
    "        for(int i=bottom;i>=top;i--){\n",
    "            res[i][left]=cnt++;\n",
    "        }\n",
    "        left++;\n",
    "    }\n",
    "\n",
    "    return res;\n",
    "\n",
    "}\n",
    "\n",
    "\n",
    "\n",
    "var matrix1=GenerateSpiralMatrix1(6);\n",
    "foreach(var subArr in matrix1){\n",
    "    foreach(var i in subArr){\n",
    "        Console.Write(i+\" , \");\n",
    "    }\n",
    "    Console.Write(\"\\n\");\n",
    "}"
   ]
  },
  {
   "cell_type": "code",
   "execution_count": null,
   "metadata": {
    "dotnet_interactive": {
     "language": "csharp"
    },
    "vscode": {
     "languageId": "dotnet-interactive.csharp"
    }
   },
   "outputs": [],
   "source": []
  }
 ],
 "metadata": {
  "kernelspec": {
   "display_name": ".NET (C#)",
   "language": "C#",
   "name": ".net-csharp"
  },
  "language_info": {
   "file_extension": ".cs",
   "mimetype": "text/x-csharp",
   "name": "C#",
   "pygments_lexer": "csharp",
   "version": "9.0"
  },
  "orig_nbformat": 4
 },
 "nbformat": 4,
 "nbformat_minor": 2
}
