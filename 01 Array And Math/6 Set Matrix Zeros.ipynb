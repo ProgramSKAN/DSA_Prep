{
 "cells": [
  {
   "cell_type": "markdown",
   "metadata": {},
   "source": [
    "Set Matrix Zeros\n",
    "https://leetcode.com/problems/set-matrix-zeroes/\n",
    "\n",
    "```Given a matrix, A of size M x N of 0s and 1s. If an element is 0, set its entire row and column to 0. Note: This will be evaluated on the extra memory used. Try to minimize the space and time complexity. \n",
    " Input Format:\n",
    "The first and the only argument of input contains a 2-d integer matrix, A, of size M x N.\n",
    "Output Format:\n",
    "Return a 2-d matrix that satisfies the given conditions.\n",
    "Constraints:\n",
    "1 <= N, M <= 1000\n",
    "0 <= A[i][j] <= 1\n",
    "Examples:\n",
    "Input 1:\n",
    "    [   [1, 0, 1],\n",
    "        [1, 1, 1], \n",
    "        [1, 1, 1]   ]\n",
    "\n",
    "Output 1:\n",
    "    [   [0, 0, 0],\n",
    "        [1, 0, 1],\n",
    "        [1, 0, 1]   ]\n",
    "\n",
    "Input 2:\n",
    "    [   [1, 0, 1],\n",
    "        [1, 1, 1],\n",
    "        [1, 0, 1]   ]\n",
    "\n",
    "Output 2:\n",
    "    [   [0, 0, 0],\n",
    "        [1, 0, 1],\n",
    "        [0, 0, 0]   ]"
   ]
  },
  {
   "cell_type": "code",
   "execution_count": null,
   "metadata": {
    "dotnet_interactive": {
     "language": "csharp"
    },
    "vscode": {
     "languageId": "dotnet-interactive.csharp"
    }
   },
   "outputs": [
    {
     "name": "stdout",
     "output_type": "stream",
     "text": [
      "0 , 0 , 0 , \n",
      "1 , 0 , 1 , \n",
      "1 , 0 , 1 , \n"
     ]
    }
   ],
   "source": [
    "int[][] SetZeros(int[][] arr){ //  O(M*N) TIME , O(M+N) space\n",
    "    int n=arr.Length;\n",
    "    int m=arr[0].Length;\n",
    "\n",
    "    var rows=new HashSet<int>();\n",
    "    var cols=new HashSet<int>();\n",
    "\n",
    "    //add rows and cols with zero to set\n",
    "    for(int i=0;i<n;i++){\n",
    "        for(int j=0;j<m;j++){\n",
    "            if(arr[i][j]==0){\n",
    "                rows.Add(i);\n",
    "                cols.Add(j);\n",
    "            }\n",
    "        }\n",
    "    }\n",
    "\n",
    "\n",
    "    for(int i=0;i<n;i++){\n",
    "        for(int j=0;j<m;j++){\n",
    "            if(rows.Contains(i) || cols.Contains(j)){\n",
    "                arr[i][j]=0;\n",
    "            }\n",
    "        }\n",
    "    }\n",
    "\n",
    "    //or\n",
    "    // foreach(int r in rows){\n",
    "    //     for(int i=0;i<n;i++){\n",
    "    //        arr[r][i]=0; \n",
    "    //     }\n",
    "    // }\n",
    "\n",
    "    // foreach(int c in cols){\n",
    "    //     for(int i=0;i<m;i++){\n",
    "    //        arr[i][c]=0; \n",
    "    //     }\n",
    "    // }\n",
    "\n",
    "    return arr;\n",
    "}\n",
    "\n",
    "var matrix=new int[3][]{\n",
    "    new[] {1,0,1},\n",
    "    new[] {1,1,1},\n",
    "    new[] {1,1,1}\n",
    "};\n",
    "var result=SetZeros(matrix);\n",
    "foreach(var subArr in result){\n",
    "    foreach(var i in subArr){\n",
    "        Console.Write(i+\" , \");\n",
    "    }\n",
    "    Console.Write(\"\\n\");\n",
    "}"
   ]
  },
  {
   "cell_type": "code",
   "execution_count": null,
   "metadata": {
    "dotnet_interactive": {
     "language": "csharp"
    },
    "vscode": {
     "languageId": "dotnet-interactive.csharp"
    }
   },
   "outputs": [
    {
     "name": "stdout",
     "output_type": "stream",
     "text": [
      "0 , 0 , 0 , \n",
      "1 , 0 , 1 , \n",
      "1 , 0 , 1 , \n"
     ]
    }
   ],
   "source": [
    "//use first row and first col as set to make O(1) space\n",
    "int[][] SetZeros1(int[][] arr){ //O(M*) TIME , O(1) space\n",
    "    int n=arr.Length;\n",
    "    int m=arr[0].Length;\n",
    "\n",
    "    bool isSetFirstColToZeros=false;\n",
    "\n",
    "    //use first row and cols ad set\n",
    "    for(int i=0;i<n;i++){\n",
    "        if(arr[i][0]==0)\n",
    "            isSetFirstColToZeros=true;\n",
    "        for(int j=1;j<m;j++){\n",
    "            if(arr[i][j]==0){\n",
    "                arr[i][0]=0;\n",
    "                arr[0][j]=0;\n",
    "            }\n",
    "        }\n",
    "    }\n",
    "\n",
    "    //use set to marks 0s\n",
    "    for(int i=1;i<n;i++){\n",
    "        for(int j=1;j<m;j++){\n",
    "            if(arr[i][0]==0 || arr[0][j]==0){\n",
    "                arr[i][j]=0;\n",
    "            }\n",
    "        }\n",
    "    }\n",
    "\n",
    "    //check first row should be 0s and set\n",
    "    if(arr[0][0]==0){\n",
    "        for(int i=0;i<m;i++){\n",
    "            arr[0][i]=0;\n",
    "        }\n",
    "    }\n",
    "\n",
    "    //check if all col elemets should be 0s and set\n",
    "    if(isSetFirstColToZeros){\n",
    "        for(int i=0;i<n;i++){\n",
    "            arr[i][0]=0;\n",
    "        }\n",
    "    }\n",
    "\n",
    "\n",
    "    return arr;\n",
    "}\n",
    "\n",
    "var matrix=new int[3][]{\n",
    "    new[] {1,0,1},\n",
    "    new[] {1,1,1},\n",
    "    new[] {1,1,1}\n",
    "};\n",
    "var result1=SetZeros1(matrix);\n",
    "foreach(var subArr in result1){\n",
    "    foreach(var i in subArr){\n",
    "        Console.Write(i+\" , \");\n",
    "    }\n",
    "    Console.Write(\"\\n\");\n",
    "}"
   ]
  },
  {
   "cell_type": "code",
   "execution_count": null,
   "metadata": {
    "dotnet_interactive": {
     "language": "csharp"
    },
    "vscode": {
     "languageId": "dotnet-interactive.csharp"
    }
   },
   "outputs": [],
   "source": []
  }
 ],
 "metadata": {
  "kernelspec": {
   "display_name": ".NET (C#)",
   "language": "C#",
   "name": ".net-csharp"
  },
  "language_info": {
   "file_extension": ".cs",
   "mimetype": "text/x-csharp",
   "name": "C#",
   "pygments_lexer": "csharp",
   "version": "9.0"
  },
  "orig_nbformat": 4
 },
 "nbformat": 4,
 "nbformat_minor": 2
}
