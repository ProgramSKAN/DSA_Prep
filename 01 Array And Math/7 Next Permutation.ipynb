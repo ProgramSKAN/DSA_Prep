{
 "cells": [
  {
   "cell_type": "markdown",
   "metadata": {},
   "source": [
    "Next Permutation\n",
    "https://leetcode.com/problems/next-permutation/\n",
    "\n",
    "```Implement the next permutation, which rearranges numbers into the numerically next greater permutation of numbers for a given array A of size N. If such arrangement is not possible, it must be rearranged as the lowest possible order i.e., sorted in an ascending order. Note:\n",
    "1. The replacement must be in-place, do **not** allocate extra memory.\n",
    "2. DO NOT USE LIBRARY FUNCTION FOR NEXT PERMUTATION. Use of Library functions will disqualify your submission retroactively and will give you penalty points.\n",
    "Input Format:\n",
    "The first and the only argument of input has an array of integers, A.\n",
    "Output Format:\n",
    "Return an array of integers, representing the next permutation of the given array.\n",
    "Constraints:\n",
    "1 <= N <= 5e5\n",
    "1 <= A[i] <= 1e9\n",
    "Examples:\n",
    "Input 1:\n",
    "    A = [1, 2, 3]\n",
    "\n",
    "Output 1:\n",
    "    [1, 3, 2]\n",
    "\n",
    "Input 2:\n",
    "    A = [3, 2, 1]\n",
    "\n",
    "Output 2:\n",
    "    [1, 2, 3]\n",
    "\n",
    "Input 3:\n",
    "    A = [1, 1, 5]\n",
    "\n",
    "Output 3:\n",
    "    [1, 5, 1]\n",
    "\n",
    "Input 4:\n",
    "    A = [20, 50, 113]\n",
    "\n",
    "Output 4:\n",
    "    [20, 113, 50]"
   ]
  },
  {
   "cell_type": "code",
   "execution_count": null,
   "metadata": {
    "dotnet_interactive": {
     "language": "csharp"
    },
    "vscode": {
     "languageId": "dotnet-interactive.csharp"
    }
   },
   "outputs": [
    {
     "name": "stdout",
     "output_type": "stream",
     "text": [
      "1,2,3\r\n"
     ]
    }
   ],
   "source": [
    "int[] NextPermutation(int[] nums) { //O(n) time, O(1) space\n",
    "    int n=nums.Length;\n",
    "    \n",
    "    //travel reverse and found i where i is decresing element\n",
    "    int i=n-2;\n",
    "    while(i>=0 && nums[i]>=nums[i+1]){\n",
    "        i--;\n",
    "    }\n",
    "    \n",
    "    if(i>=0){\n",
    "        //find elemt in right just greater than element at [i]\n",
    "        int j=n-1;\n",
    "        while(nums[j]<=nums[i]){\n",
    "            j--;\n",
    "        }\n",
    "        //swap\n",
    "        Swap(nums,i,j);\n",
    "    }\n",
    "    \n",
    "    Reverse(nums,i+1);\n",
    "    return nums;\n",
    "}\n",
    "\n",
    "void Swap(int[] nums,int i,int j){\n",
    "    int temp=nums[i];\n",
    "    nums[i]=nums[j];\n",
    "    nums[j]=temp;\n",
    "}\n",
    "\n",
    "void Reverse(int[] nums,int start){\n",
    "    int i=start; int j=nums.Length-1;\n",
    "    while(i<j){\n",
    "        Swap(nums,i,j);\n",
    "        i++;\n",
    "        j--;\n",
    "    }\n",
    "}\n",
    "\n",
    "Console.WriteLine(String.Join(\",\",NextPermutation(new int[]{3,2,1})))"
   ]
  },
  {
   "cell_type": "code",
   "execution_count": null,
   "metadata": {
    "dotnet_interactive": {
     "language": "csharp"
    },
    "vscode": {
     "languageId": "dotnet-interactive.csharp"
    }
   },
   "outputs": [],
   "source": []
  }
 ],
 "metadata": {
  "kernelspec": {
   "display_name": ".NET (C#)",
   "language": "C#",
   "name": ".net-csharp"
  },
  "language_info": {
   "file_extension": ".cs",
   "mimetype": "text/x-csharp",
   "name": "C#",
   "pygments_lexer": "csharp",
   "version": "9.0"
  },
  "orig_nbformat": 4
 },
 "nbformat": 4,
 "nbformat_minor": 2
}
