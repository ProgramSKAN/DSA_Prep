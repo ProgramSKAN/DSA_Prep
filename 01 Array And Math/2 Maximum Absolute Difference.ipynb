{
 "cells": [
  {
   "cell_type": "markdown",
   "metadata": {},
   "source": [
    "https://www.geeksforgeeks.org/maximum-value-arri-arrj-j/\n",
    "\n",
    "```Maximum Absolute Difference\n",
    "\n",
    "You are given an array of N integers, A1, A2 ,..., AN. \n",
    "Return maximum value of f(i, j) for all 1 ≤ i, j ≤ N. f(i, j) is defined \n",
    "as |A[i] - A[j]| + |i - j|, where |x| denotes absolute value of x. For example,\n",
    "\n",
    "A=[1, 3, -1]\n",
    "\n",
    "f(1, 1) = f(2, 2) = f(3, 3) = 0\n",
    "\n",
    "f(1, 2) = f(2, 1) = |1 - 3| + |1 - 2| = 3\n",
    "\n",
    "f(1, 3) = f(3, 1) = |1 - (-1)| + |1 - 3| = 4\n",
    "\n",
    "f(2, 3) = f(3, 2) = |3 - (-1)| + |2 - 3| = 5\n",
    "\n",
    "So, we return 5."
   ]
  },
  {
   "cell_type": "markdown",
   "metadata": {},
   "source": [
    "Bruteforce: O(n^2) time, O(n) space"
   ]
  },
  {
   "cell_type": "code",
   "execution_count": null,
   "metadata": {
    "dotnet_interactive": {
     "language": "csharp"
    },
    "vscode": {
     "languageId": "dotnet-interactive.csharp"
    }
   },
   "outputs": [
    {
     "name": "stdout",
     "output_type": "stream",
     "text": [
      "5\r\n"
     ]
    }
   ],
   "source": [
    "int MaxAbs(int[] arr){\n",
    "    int n=arr.Length;\n",
    "\n",
    "    int max=0;\n",
    "    for(int i=0;i<n;i++){\n",
    "        for(int j=0;j<n;j++)\n",
    "        max=Math.Max(max,Math.Abs(arr[i]-arr[j])+Math.Abs(i-j));\n",
    "    }\n",
    "    return max;\n",
    "}\n",
    "\n",
    "var A=new int[]{1, 3, -1};\n",
    "Console.WriteLine(MaxAbs(A));"
   ]
  },
  {
   "cell_type": "code",
   "execution_count": null,
   "metadata": {
    "dotnet_interactive": {
     "language": "csharp"
    },
    "vscode": {
     "languageId": "dotnet-interactive.csharp"
    }
   },
   "outputs": [
    {
     "name": "stdout",
     "output_type": "stream",
     "text": [
      "5\r\n",
      "4\r\n"
     ]
    }
   ],
   "source": [
    "//remove abosulte\n",
    "//a[i]-a[j] + i-j = (a[i]+i)-(a[j]+j)\n",
    "//a[i]-a[j] + j-i = (a[i]-i)-(a[j]-j)\n",
    "//a[j]-a[i] + i-j = -(a[i]-i)+(a[j]-j)\n",
    "//a[j]-a[i] + j-i = -(a[i]+i)+(a[j]+j)\n",
    "\n",
    "//1,4 equations, 2,3 equation are similar\n",
    "//so store (a[i]+i), (a[i]-i) in the array\n",
    "int MaxAbs1(int[] arr){\n",
    "    int n=arr.Length;\n",
    "\n",
    "    var a=new int[n];\n",
    "    var b=new int[n];\n",
    "\n",
    "    for(int i=0; i<n; i++){\n",
    "        a[i]=arr[i]+i;\n",
    "        b[i]=arr[i]-i;\n",
    "    }\n",
    "\n",
    "    //get min and max val in array 1\n",
    "    int max=a[0], min=a[0];\n",
    "    for(int i=0; i<n; i++){\n",
    "        if(a[i]>max) max=a[i];\n",
    "        if(a[i]<min) min=a[i];\n",
    "    }\n",
    "    int diff1=max-min;\n",
    "\n",
    "    //get min and max val in array 2\n",
    "     max=b[0]; min=b[0];\n",
    "    for(int i=0; i<n; i++){\n",
    "        if(b[i]>max) max=b[i];\n",
    "        if(b[i]<min) min=b[i];\n",
    "    }\n",
    "    int diff2=max-min;\n",
    "\n",
    "    return Math.Max(diff1,diff2);\n",
    "}\n",
    "\n",
    "var A=new int[]{1, 3, -1};\n",
    "Console.WriteLine(MaxAbs1(A));\n",
    "\n",
    "int[] B = { 1, 2, 3, 1 };\n",
    "Console.WriteLine(MaxAbs1(B));\n"
   ]
  },
  {
   "cell_type": "code",
   "execution_count": null,
   "metadata": {
    "dotnet_interactive": {
     "language": "csharp"
    },
    "vscode": {
     "languageId": "dotnet-interactive.csharp"
    }
   },
   "outputs": [],
   "source": []
  }
 ],
 "metadata": {
  "kernelspec": {
   "display_name": ".NET (C#)",
   "language": "C#",
   "name": ".net-csharp"
  },
  "language_info": {
   "file_extension": ".cs",
   "mimetype": "text/x-csharp",
   "name": "C#",
   "pygments_lexer": "csharp",
   "version": "9.0"
  },
  "orig_nbformat": 4
 },
 "nbformat": 4,
 "nbformat_minor": 2
}
