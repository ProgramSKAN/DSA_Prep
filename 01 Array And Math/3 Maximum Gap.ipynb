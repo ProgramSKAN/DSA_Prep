{
 "cells": [
  {
   "cell_type": "markdown",
   "metadata": {},
   "source": [
    "https://leetcode.com/problems/maximum-gap/\n",
    "\n",
    "```Maximum Consecutive Gap\n",
    "\n",
    "Given an unsorted array, find the maximum difference between the successive elements\n",
    "in its sorted form. Try to solve it in linear time/space. Example :\n",
    "\n",
    "    Input : [1, 10, 5]\n",
    "    Output : 5 \n",
    "    \n",
    "Return 0 if the array contains less than 2 elements\n",
    "\n",
    "You may assume that all the elements in the array are non-negative integers \n",
    "and fit in the 32-bit signed integer range\n",
    "\n",
    "You may also assume that the difference will not overflow"
   ]
  },
  {
   "cell_type": "code",
   "execution_count": null,
   "metadata": {
    "dotnet_interactive": {
     "language": "csharp"
    },
    "vscode": {
     "languageId": "dotnet-interactive.csharp"
    }
   },
   "outputs": [
    {
     "name": "stdout",
     "output_type": "stream",
     "text": [
      "5\r\n"
     ]
    }
   ],
   "source": [
    "int MaxGap(int[] arr){\n",
    "    int n=arr.Length;\n",
    "    Array.Sort(arr); //O(logn)\n",
    "\n",
    "    int maxDiff=0;\n",
    "    for(int i=0;i<n-1;i++){\n",
    "        maxDiff=Math.Max(maxDiff,(arr[i+1]-arr[i]));\n",
    "    }\n",
    "    return maxDiff;\n",
    "}\n",
    "int[] A={1,10,5};\n",
    "Console.WriteLine(MaxGap(A));"
   ]
  },
  {
   "cell_type": "markdown",
   "metadata": {},
   "source": [
    "Optimized: use Pegionhole sort"
   ]
  },
  {
   "cell_type": "code",
   "execution_count": null,
   "metadata": {
    "dotnet_interactive": {
     "language": "csharp"
    },
    "vscode": {
     "languageId": "dotnet-interactive.csharp"
    }
   },
   "outputs": [
    {
     "name": "stdout",
     "output_type": "stream",
     "text": [
      "5\r\n",
      "3\r\n"
     ]
    }
   ],
   "source": [
    "//[3,,6,9,1]\n",
    "//1---3----6---9\n",
    "//gap t=max-min/n-1\n",
    "//t is min gap that can be achived, any change in t will always increase the maximum gap\n",
    "//gap within elements in the bucket always <t so search between adjecent buckets\n",
    "/*\n",
    "interval = 9-1/4-1 =3\n",
    "elements = 4\n",
    "buckets = 3\n",
    "which bucket number goes into? num-min/interval\n",
    "1-1/3 = 0\n",
    "3-1/3 = 0\n",
    "6-1/3 = 1\n",
    "9-1/3 = 2\n",
    "\n",
    "\n",
    "1,3      6       9\n",
    "-----   -----   -----\n",
    "\n",
    "6-3=3\n",
    "9-6=3\n",
    "\n",
    "get max diff= min of current bucket - max of previous bucket \n",
    "ans=3\n",
    "\n",
    "*/\n",
    "\n",
    "\n",
    "\n",
    "int MaxGap1(int[] arr){\n",
    "    int n=arr.Length;\n",
    "\n",
    "    if(arr.Length<2 || arr[0]==arr[1]){\n",
    "        return 0;\n",
    "    }\n",
    "\n",
    "    int min=arr.Min();\n",
    "    int max=arr.Max();\n",
    "\n",
    "    //gap for every bucket\n",
    "    int gap=(int)Math.Ceiling((decimal)(max-min)/(n-1));\n",
    "\n",
    "\n",
    "    //n-1 buckets\n",
    "    // var minBucket=new int[n-1];\n",
    "    // var maxBucket=new int[n-1];\n",
    "\n",
    "    // Array.Fill(minBucket,int.MinValue);\n",
    "    // Array.Fill(maxBucket,int.MaxValue);\n",
    "    //or\n",
    "    var buckets=new (int min,int max)[n-1];\n",
    "    Array.Fill(buckets,(int.MaxValue,int.MinValue));\n",
    "\n",
    "    foreach(int num in arr){\n",
    "        if(num==min || num== max) continue;\n",
    "\n",
    "        int bucketIdx=(num-min)/gap;\n",
    "\n",
    "        var bucketVal=buckets[bucketIdx];\n",
    "        bucketVal.min=Math.Min(num,bucketVal.min);\n",
    "        bucketVal.max=Math.Max(num,bucketVal.max);\n",
    "        buckets[bucketIdx]=bucketVal;\n",
    "    }\n",
    "\n",
    "    var maxGap=int.MinValue;\n",
    "    var prev=min;\n",
    "    for(int i=0;i<buckets.Length;i++){\n",
    "        var bVal=buckets[i];\n",
    "        if(bVal.min==int.MaxValue && bVal.max==int.MinValue)\n",
    "            continue;\n",
    "\n",
    "        maxGap=Math.Max(maxGap,bVal.min-prev);\n",
    "        prev=bVal.max;\n",
    "    }\n",
    "    maxGap=Math.Max(maxGap,max-prev);\n",
    "    return maxGap;\n",
    "}\n",
    "\n",
    "int[] A={1,10,5};\n",
    "Console.WriteLine(MaxGap1(A));\n",
    "\n",
    "int[] B={3,6,9,1};\n",
    "Console.WriteLine(MaxGap1(B));\n"
   ]
  }
 ],
 "metadata": {
  "kernelspec": {
   "display_name": ".NET (C#)",
   "language": "C#",
   "name": ".net-csharp"
  },
  "language_info": {
   "file_extension": ".cs",
   "mimetype": "text/x-csharp",
   "name": "C#",
   "pygments_lexer": "csharp",
   "version": "9.0"
  },
  "orig_nbformat": 4
 },
 "nbformat": 4,
 "nbformat_minor": 2
}
