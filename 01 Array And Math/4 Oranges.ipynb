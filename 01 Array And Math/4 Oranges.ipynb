{
 "cells": [
  {
   "cell_type": "markdown",
   "metadata": {},
   "source": [
    "Carotenemia\n",
    "\n",
    "```You are given an Array of boxes A, where each box consists of oranges. \n",
    "You really love oranges, and you want to eat atleast B oranges. \n",
    "You start from the 0th index of the array, and keep eating oranges until you eat B oranges. \n",
    "If oranges from a box at ith index get depleted, you start eating from the (i+1)th box. \n",
    "Determine index of the box where you finish eating B number of oranges. \n",
    "If you don't eat B oranges even after eating from all the boxes, return -1. Input:\n",
    "\n",
    "A: Array of integers.\n",
    "B: Integer\n",
    "\n",
    "Output:\n",
    "Integer\n",
    "Constraints:\n",
    "1 <= size(A) <= 10^5\n",
    "1 <= Integers in A <= 10^4\n",
    "1 <= B <= 10^9\n",
    "\n",
    "Example: Input\n",
    "A: [1, 3, 2, 4]\n",
    "B: 5\n",
    "Output\n",
    "2\n",
    "\n",
    "You eat 1 orange from box 0.\n",
    "You eat 3 oranges from box 1, hence a total of 4 oranges.\n",
    "You eat 1 orange from box 2, hence a total of 5 oranges, and you stop.\n",
    "\n",
    "\n",
    "Input\n",
    "A: [1, 1, 1, 4]\n",
    "B: 10\n",
    "Output\n",
    "-1\n",
    "\n",
    "You eat 1 orange from box 0.\n",
    "You eat 1 orange from box 1, hence a total of 2 oranges.\n",
    "You eat 1 orange from box 2, hence a total of 3 oranges.\n",
    "You eat 4 oranges from box 3, hence a total of 7 oranges.\n",
    "As you never complete 10 oranges, return -1.```"
   ]
  },
  {
   "cell_type": "code",
   "execution_count": null,
   "metadata": {
    "dotnet_interactive": {
     "language": "csharp"
    },
    "vscode": {
     "languageId": "dotnet-interactive.csharp"
    }
   },
   "outputs": [
    {
     "name": "stdout",
     "output_type": "stream",
     "text": [
      "2\r\n",
      "-1\r\n"
     ]
    }
   ],
   "source": [
    "int IndexOfBox(int[] arr, int target){ //O(n) time\n",
    "    int n=arr.Length;\n",
    "\n",
    "    var orangesAte=0;\n",
    "    for(int i=0;i<n;i++){\n",
    "        orangesAte+=arr[i];\n",
    "        if(orangesAte>=target)\n",
    "            return i;\n",
    "    }\n",
    "    return -1;\n",
    "}\n",
    "\n",
    "var orangesInBox=new int[]{1, 3, 2, 4};\n",
    "Console.WriteLine(IndexOfBox(orangesInBox,5));\n",
    "\n",
    "var orangesInBox1=new int[]{1, 1, 1, 4};\n",
    "Console.WriteLine(IndexOfBox(orangesInBox1,10));"
   ]
  },
  {
   "cell_type": "code",
   "execution_count": null,
   "metadata": {
    "dotnet_interactive": {
     "language": "csharp"
    },
    "vscode": {
     "languageId": "dotnet-interactive.csharp"
    }
   },
   "outputs": [],
   "source": []
  }
 ],
 "metadata": {
  "kernelspec": {
   "display_name": ".NET (C#)",
   "language": "C#",
   "name": ".net-csharp"
  },
  "language_info": {
   "file_extension": ".cs",
   "mimetype": "text/x-csharp",
   "name": "C#",
   "pygments_lexer": "csharp",
   "version": "9.0"
  },
  "orig_nbformat": 4
 },
 "nbformat": 4,
 "nbformat_minor": 2
}
