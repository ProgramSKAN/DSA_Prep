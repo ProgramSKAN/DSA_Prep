{
 "cells": [
  {
   "cell_type": "markdown",
   "metadata": {},
   "source": [
    "https://leetcode.com/problems/trapping-rain-water/ \n",
    "\n",
    "Rain Water Trapped\n",
    "\n",
    "```Given n non-negative integers representing an elevation map where the width of each bar is 1,\n",
    "compute how much water it is able to trap after raining. \n",
    "\n",
    "Input Format\n",
    "The only argument given is integer array A.\n",
    "Output Format\n",
    "Return the total water it is able to trap after raining..\n",
    "\n",
    "For Example\n",
    "Input 1:\n",
    "\n",
    "    A = [0,1,0,2,1,0,1,3,2,1,2,1]\n",
    "\n",
    "Output 1:\n",
    "\n",
    "    6\n",
    "    \n",
    "Explaination 1:\n",
    "\n",
    "    In this case, 6 units of rain water (blue section) are being trapped."
   ]
  },
  {
   "cell_type": "code",
   "execution_count": null,
   "metadata": {
    "dotnet_interactive": {
     "language": "csharp"
    },
    "vscode": {
     "languageId": "dotnet-interactive.csharp"
    }
   },
   "outputs": [],
   "source": [
    "public int GetMax(int[] arr){ //O(n)\n",
    "    int max=0;\n",
    "    foreach(int val in arr){\n",
    "        if(val>max)\n",
    "            max=val;\n",
    "    }\n",
    "    return max;\n",
    "}"
   ]
  },
  {
   "cell_type": "markdown",
   "metadata": {},
   "source": [
    "Bruteforce: O(n^2) time, O(1) space"
   ]
  },
  {
   "cell_type": "code",
   "execution_count": null,
   "metadata": {
    "dotnet_interactive": {
     "language": "csharp"
    },
    "vscode": {
     "languageId": "dotnet-interactive.csharp"
    }
   },
   "outputs": [
    {
     "name": "stdout",
     "output_type": "stream",
     "text": [
      "6\r\n"
     ]
    }
   ],
   "source": [
    "int Trap(int[] A){\n",
    "    int n=A.Length;\n",
    "    int water=0;\n",
    "    for(int i=0;i<n;i++){ //O(n)\n",
    "        int currBuilding=A[i];\n",
    "    \n",
    "        //get left and right heighest building\n",
    "        int leftMax=GetMax(A[0..i]); //O(n)\n",
    "        int rightMax=GetMax((A[(i+1)..]));\n",
    "    \n",
    "        int diff=Math.Min(leftMax,rightMax) - currBuilding;\n",
    "        if(diff>0){\n",
    "            water+=diff;\n",
    "        }\n",
    "    }\n",
    "    return water;\n",
    "}\n",
    "\n",
    "var A=new int[]{0,1,0,2,1,0,1,3,2,1,2,1};\n",
    "Console.WriteLine(Trap(A));"
   ]
  },
  {
   "cell_type": "markdown",
   "metadata": {},
   "source": [
    "Optimized: O(n) time, O(n) space due to premax and postmax arrays"
   ]
  },
  {
   "cell_type": "code",
   "execution_count": null,
   "metadata": {
    "dotnet_interactive": {
     "language": "csharp"
    },
    "vscode": {
     "languageId": "dotnet-interactive.csharp"
    }
   },
   "outputs": [
    {
     "name": "stdout",
     "output_type": "stream",
     "text": [
      "6\r\n",
      "9\r\n",
      "2107\r\n"
     ]
    }
   ],
   "source": [
    "int Trap1(int[] A){\n",
    "    int n=A.Length;\n",
    "    var leftMax=new int[n];\n",
    "    var rightMax=new int[n];\n",
    "\n",
    "    //fill leftMax array\n",
    "    for(i=1;i<n;i++){  \n",
    "        leftMax[i]=Math.Max(leftMax[i-1],A[i-1]);\n",
    "    }\n",
    "\n",
    "    //fill rightMax Array\n",
    "    for(i=n-2;i>=0;i--){\n",
    "        rightMax[i]=Math.Max(rightMax[i+1],A[i+1]);\n",
    "    }\n",
    "\n",
    "    int water=0;\n",
    "    for(int i=0; i<n;i++){\n",
    "        int currBuilding=A[i];\n",
    "\n",
    "        //get min building between left and right\n",
    "        int minBuilding=Math.Min(leftMax[i],rightMax[i]);\n",
    "        int diff=minBuilding-currBuilding;\n",
    "        if(diff>0){\n",
    "            water+=diff;\n",
    "        }\n",
    "    }\n",
    "    return water;\n",
    "}\n",
    "\n",
    "var A =new int[]{0,1,0,2,1,0,1,3,2,1,2,1};\n",
    "Console.WriteLine(Trap1(A));\n",
    "\n",
    "var B = new int[] {3,5,3,1,5,2,7,3,1};\n",
    "Console.WriteLine(Trap1(B));\n",
    "\n",
    "var C =new int[] { 56, 6, 52, 43, 23, 47, 48, 38, 96, 46, 30, 66, 80, 15, 62, 71, 61, 12, 98, 9, 28, 81, 70, 59, 95, 34, 9, 60, 70, 81, 71, 67, 58, 20, 22, 3, 95, 85, 20, 24, 74, 5, 23, 33, 75, 50, 38, 75, 68, 26, 46, 30, 75, 18, 4, 42, 51, 59, 8, 77 };\n",
    "Console.WriteLine(Trap1(C));"
   ]
  },
  {
   "cell_type": "code",
   "execution_count": null,
   "metadata": {
    "dotnet_interactive": {
     "language": "csharp"
    },
    "vscode": {
     "languageId": "dotnet-interactive.csharp"
    }
   },
   "outputs": [],
   "source": []
  }
 ],
 "metadata": {
  "kernelspec": {
   "display_name": ".NET (C#)",
   "language": "C#",
   "name": ".net-csharp"
  },
  "language_info": {
   "file_extension": ".cs",
   "mimetype": "text/x-csharp",
   "name": "C#",
   "pygments_lexer": "csharp",
   "version": "9.0"
  },
  "orig_nbformat": 4
 },
 "nbformat": 4,
 "nbformat_minor": 2
}
